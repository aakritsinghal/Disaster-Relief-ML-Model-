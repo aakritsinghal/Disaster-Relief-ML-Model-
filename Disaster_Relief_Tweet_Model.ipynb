{
  "nbformat": 4,
  "nbformat_minor": 0,
  "metadata": {
    "colab": {
      "name": "Disaster_Relief_Tweet_Model.ipynb",
      "provenance": [],
      "collapsed_sections": [],
      "authorship_tag": "ABX9TyP3K3VO6vub4JswaZYVEc4n"
    },
    "kernelspec": {
      "name": "python3",
      "display_name": "Python 3"
    }
  },
  "cells": [
    {
      "cell_type": "code",
      "metadata": {
        "id": "cOfKmlv90SrC",
        "colab_type": "code",
        "colab": {}
      },
      "source": [
        "#Setup environment and load data \n",
        "import re\n",
        "import gdown\n",
        "import seaborn as sns\n",
        "import pandas as pd\n",
        "import numpy as np\n",
        "from torchtext.vocab import GloVe\n",
        "from sklearn.model_selection import train_test_split\n",
        "gdown.download('https://drive.google.com/uc?id=1umFXM7SvdBvTlHW0r0CXDcxNqL73jU8Z', 'disaster_data.csv', True)\n",
        "from sklearn import metrics\n",
        "from sklearn.linear_model import LogisticRegression\n",
        "from sklearn.metrics import classification_report\n",
        "\n",
        "from sklearn.metrics import precision_recall_fscore_support\n",
        "from sklearn.metrics import accuracy_score\n",
        "from sklearn.metrics import confusion_matrix\n",
        "import matplotlib\n",
        "import matplotlib.pyplot as plt\n",
        "import requests, io, zipfile"
      ],
      "execution_count": 4,
      "outputs": []
    },
    {
      "cell_type": "code",
      "metadata": {
        "id": "iRrV35Gg1iFD",
        "colab_type": "code",
        "colab": {}
      },
      "source": [
        "# Load the data.\n",
        "disaster_tweets = pd.read_csv('disaster_data.csv',encoding =\"ISO-8859-1\")"
      ],
      "execution_count": 5,
      "outputs": []
    },
    {
      "cell_type": "code",
      "metadata": {
        "id": "qVcxU0uc6f0W",
        "colab_type": "code",
        "colab": {
          "base_uri": "https://localhost:8080/",
          "height": 202
        },
        "outputId": "2ed09e2c-4cd5-4119-b6ad-d35a69ec8149"
      },
      "source": [
        "disaster_tweets.head()"
      ],
      "execution_count": 6,
      "outputs": [
        {
          "output_type": "execute_result",
          "data": {
            "text/html": [
              "<div>\n",
              "<style scoped>\n",
              "    .dataframe tbody tr th:only-of-type {\n",
              "        vertical-align: middle;\n",
              "    }\n",
              "\n",
              "    .dataframe tbody tr th {\n",
              "        vertical-align: top;\n",
              "    }\n",
              "\n",
              "    .dataframe thead th {\n",
              "        text-align: right;\n",
              "    }\n",
              "</style>\n",
              "<table border=\"1\" class=\"dataframe\">\n",
              "  <thead>\n",
              "    <tr style=\"text-align: right;\">\n",
              "      <th></th>\n",
              "      <th>tweet_id</th>\n",
              "      <th>text</th>\n",
              "      <th>category</th>\n",
              "      <th>need_or_resource</th>\n",
              "    </tr>\n",
              "  </thead>\n",
              "  <tbody>\n",
              "    <tr>\n",
              "      <th>0</th>\n",
              "      <td>ca9e24c8-396d-4502-8b45-18895df5333e_0</td>\n",
              "      <td>Donations of batteries, flashlights, and clean...</td>\n",
              "      <td>Energy</td>\n",
              "      <td>need</td>\n",
              "    </tr>\n",
              "    <tr>\n",
              "      <th>1</th>\n",
              "      <td>twitter_resource_tweets_1692</td>\n",
              "      <td>I want hurricane Sandy to cone so I can be stu...</td>\n",
              "      <td>None</td>\n",
              "      <td>NaN</td>\n",
              "    </tr>\n",
              "    <tr>\n",
              "      <th>2</th>\n",
              "      <td>625b46e2-0b81-41ea-826e-4535fe9b39b8</td>\n",
              "      <td>Hi, I can help prepare food, serve food, offer...</td>\n",
              "      <td>Food</td>\n",
              "      <td>resource</td>\n",
              "    </tr>\n",
              "    <tr>\n",
              "      <th>3</th>\n",
              "      <td>twitter_resource_tweets_1699</td>\n",
              "      <td>I cant believe Sandy.....</td>\n",
              "      <td>None</td>\n",
              "      <td>NaN</td>\n",
              "    </tr>\n",
              "    <tr>\n",
              "      <th>4</th>\n",
              "      <td>c3bfea72-d377-445c-b4b8-e8ebca0e7fbb</td>\n",
              "      <td>I have children and adult clothes including ja...</td>\n",
              "      <td>Water</td>\n",
              "      <td>resource</td>\n",
              "    </tr>\n",
              "  </tbody>\n",
              "</table>\n",
              "</div>"
            ],
            "text/plain": [
              "                                 tweet_id  ... need_or_resource\n",
              "0  ca9e24c8-396d-4502-8b45-18895df5333e_0  ...             need\n",
              "1            twitter_resource_tweets_1692  ...              NaN\n",
              "2    625b46e2-0b81-41ea-826e-4535fe9b39b8  ...         resource\n",
              "3            twitter_resource_tweets_1699  ...              NaN\n",
              "4    c3bfea72-d377-445c-b4b8-e8ebca0e7fbb  ...         resource\n",
              "\n",
              "[5 rows x 4 columns]"
            ]
          },
          "metadata": {
            "tags": []
          },
          "execution_count": 6
        }
      ]
    },
    {
      "cell_type": "code",
      "metadata": {
        "id": "HTAgR_8X6hsJ",
        "colab_type": "code",
        "colab": {}
      },
      "source": [
        "#Read the tweet data and convert it to lowercase\n",
        "tweets = disaster_tweets['text'].str.lower() \n",
        "tweets = tweets.apply(lambda x: re.sub(r'[^a-zA-Z0-9]+', ' ',x))"
      ],
      "execution_count": 7,
      "outputs": []
    },
    {
      "cell_type": "code",
      "metadata": {
        "id": "xbEy6T9X6jH4",
        "colab_type": "code",
        "colab": {}
      },
      "source": [
        "#Extract the labels from the csv\n",
        "tweet_labels = disaster_tweets['category']"
      ],
      "execution_count": 8,
      "outputs": []
    },
    {
      "cell_type": "code",
      "metadata": {
        "id": "Cjoj_ajy6kQx",
        "colab_type": "code",
        "colab": {}
      },
      "source": [
        "#Split the Data into Training and Testing\n",
        "X_train, X_test, y_train, y_test = train_test_split(tweets, tweet_labels, test_size=0.2, random_state=1,stratify = tweet_labels)"
      ],
      "execution_count": 9,
      "outputs": []
    },
    {
      "cell_type": "code",
      "metadata": {
        "id": "gtel8qBd6l2n",
        "colab_type": "code",
        "colab": {
          "base_uri": "https://localhost:8080/",
          "height": 52
        },
        "outputId": "8c917bc0-96b2-480f-9c5e-496ad5f0c87c"
      },
      "source": [
        "VEC_SIZE = 300\n",
        "glove = GloVe(name='6B', dim=VEC_SIZE)\n",
        "\n",
        "# Returns word vector for word if it exists, else return None.\n",
        "def get_word_vector(word):\n",
        "    try:\n",
        "      return glove.vectors[glove.stoi[word.lower()]].numpy()\n",
        "    except KeyError:\n",
        "      return None"
      ],
      "execution_count": 10,
      "outputs": [
        {
          "output_type": "stream",
          "text": [
            ".vector_cache/glove.6B.zip: 862MB [06:30, 2.21MB/s]                           \n",
            "100%|█████████▉| 399599/400000 [00:45<00:00, 8641.23it/s]"
          ],
          "name": "stderr"
        }
      ]
    },
    {
      "cell_type": "code",
      "metadata": {
        "id": "2EI_-rii6myK",
        "colab_type": "code",
        "colab": {
          "base_uri": "https://localhost:8080/",
          "height": 901
        },
        "outputId": "a5fda02c-3da2-4148-d74d-599190fc4890"
      },
      "source": [
        "good_vector = get_word_vector('good')\n",
        "\n",
        "print('Shape of good vector:', good_vector.shape)\n",
        "print(good_vector)"
      ],
      "execution_count": 11,
      "outputs": [
        {
          "output_type": "stream",
          "text": [
            "Shape of good vector: (300,)\n",
            "[-1.3602e-01 -1.1594e-01 -1.7078e-02 -2.9256e-01  1.6149e-02  8.6472e-02\n",
            "  1.5759e-03  3.4395e-01  2.1661e-01 -2.1366e+00  3.5278e-01 -2.3909e-01\n",
            " -2.2174e-01  3.6413e-01 -4.5021e-01  1.2104e-01 -1.5596e-01 -3.8906e-02\n",
            " -2.9419e-03  1.6009e-02 -1.1620e-01  3.8680e-01  3.5109e-01  9.7426e-02\n",
            " -1.2425e-02 -1.7864e-01 -2.3259e-01 -2.6960e-01  4.1083e-02 -7.6194e-02\n",
            " -2.3362e-01  2.0919e-01 -2.7264e-01  5.4967e-02 -1.8055e+00  5.6348e-01\n",
            " -1.2778e-01  2.3147e-01 -5.8820e-03 -2.6630e-01  4.1187e-01 -3.7162e-01\n",
            " -2.0600e-01 -1.9619e-01 -4.3945e-03  1.2513e-01  4.6638e-01  4.5159e-01\n",
            " -1.5000e-01  5.9589e-03  5.9070e-02 -4.1440e-01  6.1035e-02 -2.1117e-01\n",
            " -4.0988e-01  5.6393e-01  2.3021e-01  2.7240e-01  4.9364e-02  1.4239e-01\n",
            "  4.1841e-01 -1.3983e-01  3.4826e-01 -1.0745e-01 -2.5002e-01 -3.2554e-01\n",
            "  3.3343e-01 -3.5617e-01  2.0442e-01  1.4439e-01 -1.2686e-01 -7.7273e-02\n",
            " -1.9667e-01  1.0759e-01 -1.1860e-01 -2.5083e-01  1.4205e-02  2.7251e-01\n",
            " -2.3707e-01 -2.3545e-01 -1.5887e-01  1.3151e-01  6.9564e-01  2.2766e-01\n",
            "  1.8526e-01  1.5743e-01 -1.5018e-01 -1.8177e-01 -3.3527e-02 -3.3092e-01\n",
            " -2.5205e-01  5.0913e-01 -2.5607e-01 -5.3686e-01  1.3397e-01  6.7046e-02\n",
            " -9.4473e-02 -2.2270e-01 -3.1469e-01  8.5932e-02 -4.3032e-02 -2.5821e-01\n",
            " -9.5062e-02 -1.8497e-01  5.8890e-02  1.8972e-01 -1.7366e-01  2.5263e-01\n",
            " -5.4361e-01 -3.7248e-01 -4.6661e-02 -4.1657e-01 -1.7549e-03 -4.8404e-01\n",
            "  4.2090e-01 -1.2749e-03  9.4697e-03 -1.3380e-01  7.2351e-02 -1.2096e-01\n",
            " -7.2870e-02 -1.8333e-01  3.9652e-01  1.1329e-01 -6.3029e-02 -1.9702e-03\n",
            "  4.2848e-01  3.1790e-01 -1.5079e-01  2.0405e-01  2.1828e-01  2.6067e-02\n",
            "  4.3621e-02  3.9224e-03 -2.6629e-01 -2.8312e-01  5.0497e-02 -1.8993e-01\n",
            "  1.8996e-01  2.9517e-01 -1.1566e-01  4.0967e-01  2.2221e-01 -3.9778e-01\n",
            " -3.3177e-01 -1.3884e-01 -1.6829e-01 -2.0355e-01 -2.7687e-01 -1.1087e-01\n",
            " -6.7466e-01 -1.8108e-01  1.8512e-01 -9.4616e-02  1.7856e-01 -6.6997e-02\n",
            "  1.1379e-01 -9.3380e-02  5.6860e-01 -1.3365e-01  3.4636e-01 -4.1953e-01\n",
            "  1.7547e-01 -2.4277e-02 -1.2441e-01  9.2129e-02 -1.6702e-01 -1.4285e-01\n",
            "  3.1646e-01  3.0337e-01  1.4840e-01 -6.7837e-03 -1.0509e+00  2.2329e-01\n",
            "  7.5211e-02  4.4379e-02 -8.5929e-02 -1.1806e-01 -1.6632e-01 -7.8650e-02\n",
            "  2.6374e-01 -2.2052e-01  4.5582e-01 -1.5291e-01  6.2617e-02 -1.5588e-01\n",
            "  8.2398e-02 -6.8462e-02 -2.4569e-01  2.3439e-01 -3.8633e-01  2.4835e-01\n",
            "  2.5334e-01 -2.1189e-01  4.1494e-03 -4.3762e-01 -1.3426e-01 -2.4583e-01\n",
            "  1.4213e-01 -3.3973e-01  1.4643e+00  1.6414e-01  2.2135e-01  7.4099e-03\n",
            " -5.5141e-02 -2.7403e-02  3.2928e-02  1.4289e-01 -1.0049e-01 -2.2066e-01\n",
            " -3.0380e-01  6.0624e-02 -1.2408e-01 -5.4114e-01  2.4374e-01  8.0903e-02\n",
            " -7.8264e-02  8.0091e-02  9.8551e-03 -2.3077e-01  1.6006e-01  6.4075e-02\n",
            " -4.1613e-01  2.0494e-01 -1.8681e-01  3.5367e-02  2.1759e-01 -8.7823e-02\n",
            "  3.5452e-01  1.9578e-01 -1.5127e-01 -1.0545e-01  3.5650e-01 -3.8677e-01\n",
            " -6.3172e-02  3.1534e-01 -1.5887e-01 -3.1267e-01 -1.7893e-01  4.1952e-01\n",
            "  2.3261e-01  2.0943e-01  2.7013e-02  1.7388e-02 -5.9857e-01 -1.9622e-01\n",
            " -2.3672e-01  3.0032e-01  4.6926e-02 -8.5768e-02  3.6539e-01 -5.2476e-01\n",
            " -1.3618e-01  1.0868e-01  4.6307e-01  3.8502e-01  7.6317e-04 -3.8196e-01\n",
            "  7.9772e-02 -4.1744e-02  4.7625e-02 -4.1018e-02  1.7601e-01  2.4893e-01\n",
            " -1.0753e-01  3.1935e-01 -1.2762e-01 -3.5059e-01  3.5689e-04  9.3515e-03\n",
            " -8.8616e-02 -3.2785e-01  9.2063e-02 -6.1405e-02  2.9053e-01  2.2404e-02\n",
            " -1.6879e+00  2.6712e-01  3.3419e-01 -5.2533e-02 -1.9741e-01  1.3709e-01\n",
            " -5.4288e-02  5.6423e-01  1.9384e-01  1.7229e-01  2.9025e-01 -1.6124e-01\n",
            "  5.9489e-02 -3.1884e-01 -2.8343e-01  6.4321e-02 -4.1589e-01 -7.0528e-02\n",
            "  1.2410e-02 -4.0208e-01 -2.4963e-01 -3.3760e-01  7.0098e-02  2.4642e-01]\n"
          ],
          "name": "stdout"
        }
      ]
    },
    {
      "cell_type": "code",
      "metadata": {
        "id": "FbV36Fb58kuV",
        "colab_type": "code",
        "colab": {
          "base_uri": "https://localhost:8080/",
          "height": 87
        },
        "outputId": "3c2f8022-13a8-4cf1-8249-a82d33d5e306"
      },
      "source": [
        "def cosine_similarity(vec1, vec2):    \n",
        "  return np.dot(vec1, vec2) / (np.linalg.norm(vec1) * np.linalg.norm(vec2))\n",
        "\n",
        "word1 = \"mumbai\" #@param {type:\"string\"}\n",
        "word2 = \"delhi\" #@param {type:\"string\"}\n",
        "\n",
        "print('Word 1:', word1)\n",
        "print('Word 2:', word2)\n",
        "\n",
        "def cosine_similarity_of_words(word1, word2):\n",
        "  vec1 = get_word_vector(word1)\n",
        "  vec2 = get_word_vector(word2)\n",
        "  \n",
        "  if vec1 is None:\n",
        "    print(word1, 'is not a valid word. Try another.')\n",
        "  if vec2 is None:\n",
        "    print(word2, 'is not a valid word. Try another.')\n",
        "  if vec1 is None or vec2 is None:\n",
        "    return None\n",
        "  \n",
        "  return cosine_similarity(vec1, vec2)\n",
        "  \n",
        "\n",
        "print('\\nCosine similarity:', cosine_similarity_of_words(word1, word2))"
      ],
      "execution_count": 12,
      "outputs": [
        {
          "output_type": "stream",
          "text": [
            "Word 1: mumbai\n",
            "Word 2: delhi\n",
            "\n",
            "Cosine similarity: 0.65649796\n"
          ],
          "name": "stdout"
        }
      ]
    },
    {
      "cell_type": "code",
      "metadata": {
        "id": "JViNLoG-8psH",
        "colab_type": "code",
        "colab": {
          "base_uri": "https://localhost:8080/",
          "height": 52
        },
        "outputId": "a50b64bc-ab91-4aac-aeca-8b376fb98367"
      },
      "source": [
        "def glove_transform_data_descriptions(data):\n",
        "    X = np.zeros((len(data), VEC_SIZE))\n",
        "    \n",
        "    \n",
        "    for i, tweet in enumerate(data):\n",
        "        found_words = 0.0\n",
        "        tweet = tweet.strip()\n",
        "        for word in tweet.split():\n",
        "           \n",
        "            vec = get_word_vector(word)\n",
        "            if vec is not None:\n",
        "                \n",
        "                # Increment found_words and add vec to X[i].\n",
        "                found_words += 1\n",
        "                X[i] += vec\n",
        "                \n",
        "        # We divide the sum by the number of words added, so we have the\n",
        "        # average word vector.\n",
        "        if found_words > 0:\n",
        "            X[i] /= found_words\n",
        "            \n",
        "    return X\n",
        "  \n",
        "glove_train_X = glove_transform_data_descriptions(X_train)\n",
        "glove_train_y = [label for label in y_train]\n",
        "print (\"Train_shape\",glove_train_X.shape)\n",
        "glove_test_X = glove_transform_data_descriptions(X_test)\n",
        "glove_test_y = [label for label in y_test]\n",
        "print (\"Test shape\",glove_test_X.shape)"
      ],
      "execution_count": 15,
      "outputs": [
        {
          "output_type": "stream",
          "text": [
            "Train_shape (1120, 300)\n",
            "Test shape (281, 300)\n"
          ],
          "name": "stdout"
        }
      ]
    },
    {
      "cell_type": "code",
      "metadata": {
        "id": "yKmGKY4Y89UX",
        "colab_type": "code",
        "colab": {
          "base_uri": "https://localhost:8080/",
          "height": 367
        },
        "outputId": "475dcb44-55f7-4d80-864d-542178ffd54d"
      },
      "source": [
        "model = LogisticRegression()\n",
        "\n",
        "model.fit(glove_train_X, glove_train_y)\n",
        "\n",
        "glove_train_y_pred = model.predict(glove_train_X)\n",
        "print('Train accuracy', accuracy_score(glove_train_y, glove_train_y_pred))\n",
        "\n",
        "glove_test_y_pred = model.predict(glove_test_X)\n",
        "print('Val accuracy', accuracy_score(glove_test_y, glove_test_y_pred))\n",
        "\n",
        "print('Confusion matrix:')\n",
        "print(confusion_matrix(glove_test_y, glove_test_y_pred))\n",
        "\n",
        "prf = precision_recall_fscore_support(glove_test_y, glove_test_y_pred)\n",
        "\n",
        "print('Precision:', prf[0][1])\n",
        "print('Recall:', prf[1][1])\n",
        "print('F-Score:', prf[2][1])"
      ],
      "execution_count": 16,
      "outputs": [
        {
          "output_type": "stream",
          "text": [
            "Train accuracy 0.8946428571428572\n",
            "Val accuracy 0.8790035587188612\n",
            "Confusion matrix:\n",
            "[[ 24   2   0   8   1]\n",
            " [  0 129   1   3   0]\n",
            " [  0   3   8   0   0]\n",
            " [  7   3   0  67   0]\n",
            " [  1   3   0   2  19]]\n",
            "Precision: 0.9214285714285714\n",
            "Recall: 0.9699248120300752\n",
            "F-Score: 0.945054945054945\n"
          ],
          "name": "stdout"
        },
        {
          "output_type": "stream",
          "text": [
            "/usr/local/lib/python3.6/dist-packages/sklearn/linear_model/_logistic.py:940: ConvergenceWarning: lbfgs failed to converge (status=1):\n",
            "STOP: TOTAL NO. of ITERATIONS REACHED LIMIT.\n",
            "\n",
            "Increase the number of iterations (max_iter) or scale the data as shown in:\n",
            "    https://scikit-learn.org/stable/modules/preprocessing.html\n",
            "Please also refer to the documentation for alternative solver options:\n",
            "    https://scikit-learn.org/stable/modules/linear_model.html#logistic-regression\n",
            "  extra_warning_msg=_LOGISTIC_SOLVER_CONVERGENCE_MSG)\n"
          ],
          "name": "stderr"
        }
      ]
    },
    {
      "cell_type": "code",
      "metadata": {
        "id": "iWw5kTEj9ITT",
        "colab_type": "code",
        "colab": {
          "base_uri": "https://localhost:8080/",
          "height": 225
        },
        "outputId": "8040ad6a-351e-42ec-da3c-f4cdc90563de"
      },
      "source": [
        "print(classification_report(y_test,glove_test_y_pred, target_names=['Energy', 'Food', 'Medical', 'None', 'Water']))"
      ],
      "execution_count": 17,
      "outputs": [
        {
          "output_type": "stream",
          "text": [
            "              precision    recall  f1-score   support\n",
            "\n",
            "      Energy       0.75      0.69      0.72        35\n",
            "        Food       0.92      0.97      0.95       133\n",
            "     Medical       0.89      0.73      0.80        11\n",
            "        None       0.84      0.87      0.85        77\n",
            "       Water       0.95      0.76      0.84        25\n",
            "\n",
            "    accuracy                           0.88       281\n",
            "   macro avg       0.87      0.80      0.83       281\n",
            "weighted avg       0.88      0.88      0.88       281\n",
            "\n"
          ],
          "name": "stdout"
        }
      ]
    },
    {
      "cell_type": "code",
      "metadata": {
        "id": "KMkOHBcj9LtA",
        "colab_type": "code",
        "colab": {}
      },
      "source": [
        "def plot_confusion_matrix(y_true,y_predicted):\n",
        "  cm = metrics.confusion_matrix(y_true, y_predicted)\n",
        "  print (\"Plotting the Confusion Matrix\")\n",
        "  labels = ['Energy', 'Food', 'Medical', 'None', 'Water']\n",
        "  df_cm = pd.DataFrame(cm,index =labels,columns = labels)\n",
        "  fig = plt.figure()\n",
        "  res = sns.heatmap(df_cm, annot=True,cmap='Blues', fmt='g')\n",
        "  plt.yticks([0.5,1.5,2.5,3.5,4.5], labels,va='center')\n",
        "  plt.title('Confusion Matrix - TestData')\n",
        "  plt.ylabel('True label')\n",
        "  plt.xlabel('Predicted label')\n",
        "  plt.show()\n",
        "  plt.close()"
      ],
      "execution_count": 18,
      "outputs": []
    },
    {
      "cell_type": "code",
      "metadata": {
        "id": "f6W6BvEl9PPy",
        "colab_type": "code",
        "colab": {
          "base_uri": "https://localhost:8080/",
          "height": 313
        },
        "outputId": "b50d6724-9538-44f5-db26-e5cd0dabf09b"
      },
      "source": [
        "plot_confusion_matrix(y_test,glove_test_y_pred)"
      ],
      "execution_count": 19,
      "outputs": [
        {
          "output_type": "stream",
          "text": [
            "Plotting the Confusion Matrix\n"
          ],
          "name": "stdout"
        },
        {
          "output_type": "display_data",
          "data": {
            "image/png": "[encoded data removed]",
            "text/plain": [
              "<Figure size 432x288 with 2 Axes>"
            ]
          },
          "metadata": {
            "tags": [],
            "needs_background": "light"
          }
        }
      ]
    },
    {
      "cell_type": "code",
      "metadata": {
        "id": "WBuzW9ag9Rle",
        "colab_type": "code",
        "colab": {}
      },
      "source": [
        "#List of Incorrect Tweets\n",
        "pd.set_option('max_colwidth', 500)\n",
        "incorrect_tweets = []\n",
        "incorrect_y_test = []\n",
        "incorrect_y_pred = []\n",
        "for (t,x,y) in zip(X_test,y_test,glove_test_y_pred):\n",
        "  if x != y:\n",
        "    incorrect_tweets.append(t)\n",
        "    incorrect_y_test.append(x)\n",
        "    incorrect_y_pred.append(y)"
      ],
      "execution_count": 20,
      "outputs": []
    },
    {
      "cell_type": "code",
      "metadata": {
        "id": "dAAvpaPV9W5z",
        "colab_type": "code",
        "colab": {}
      },
      "source": [
        "table=pd.DataFrame([incorrect_tweets,incorrect_y_pred,incorrect_y_test]).transpose()\n",
        "table.columns = ['Tweet', 'Predicted Category', 'True Category']"
      ],
      "execution_count": 21,
      "outputs": []
    },
    {
      "cell_type": "code",
      "metadata": {
        "id": "dG6LsCNO9dO-",
        "colab_type": "code",
        "colab": {
          "base_uri": "https://localhost:8080/",
          "height": 1000
        },
        "outputId": "4f40baf5-59ae-4a9b-8a94-2a8ff91bf98e"
      },
      "source": [
        "table"
      ],
      "execution_count": 22,
      "outputs": [
        {
          "output_type": "execute_result",
          "data": {
            "text/html": [
              "<div>\n",
              "<style scoped>\n",
              "    .dataframe tbody tr th:only-of-type {\n",
              "        vertical-align: middle;\n",
              "    }\n",
              "\n",
              "    .dataframe tbody tr th {\n",
              "        vertical-align: top;\n",
              "    }\n",
              "\n",
              "    .dataframe thead th {\n",
              "        text-align: right;\n",
              "    }\n",
              "</style>\n",
              "<table border=\"1\" class=\"dataframe\">\n",
              "  <thead>\n",
              "    <tr style=\"text-align: right;\">\n",
              "      <th></th>\n",
              "      <th>Tweet</th>\n",
              "      <th>Predicted Category</th>\n",
              "      <th>True Category</th>\n",
              "    </tr>\n",
              "  </thead>\n",
              "  <tbody>\n",
              "    <tr>\n",
              "      <th>0</th>\n",
              "      <td>senior nursing students we graduate this december and we want to help we can give basic medical care hand out blankets you name it we will do it thanks</td>\n",
              "      <td>Food</td>\n",
              "      <td>Medical</td>\n",
              "    </tr>\n",
              "    <tr>\n",
              "      <th>1</th>\n",
              "      <td>a few friends and i are happy to distribute meds</td>\n",
              "      <td>Food</td>\n",
              "      <td>Medical</td>\n",
              "    </tr>\n",
              "    <tr>\n",
              "      <th>2</th>\n",
              "      <td>eating cold chinese food with a flash light sandyprobs</td>\n",
              "      <td>None</td>\n",
              "      <td>Energy</td>\n",
              "    </tr>\n",
              "    <tr>\n",
              "      <th>3</th>\n",
              "      <td>hello there i have two trucks worth of goods water supplies clothes everything please email me at</td>\n",
              "      <td>Food</td>\n",
              "      <td>Water</td>\n",
              "    </tr>\n",
              "    <tr>\n",
              "      <th>4</th>\n",
              "      <td>i need groceries not because of the storm just legit need groceries</td>\n",
              "      <td>None</td>\n",
              "      <td>Food</td>\n",
              "    </tr>\n",
              "    <tr>\n",
              "      <th>5</th>\n",
              "      <td>sandy is so angry power is down wind over 90 mph</td>\n",
              "      <td>None</td>\n",
              "      <td>Energy</td>\n",
              "    </tr>\n",
              "    <tr>\n",
              "      <th>6</th>\n",
              "      <td>over 25 people in line at starbucks people need coffee as much as they need food and gas post sandy starbucks http t co t7g3fbjg</td>\n",
              "      <td>Food</td>\n",
              "      <td>None</td>\n",
              "    </tr>\n",
              "    <tr>\n",
              "      <th>7</th>\n",
              "      <td>i can bring batteries toiletries non perishable items hygiene products towels</td>\n",
              "      <td>Food</td>\n",
              "      <td>Energy</td>\n",
              "    </tr>\n",
              "    <tr>\n",
              "      <th>8</th>\n",
              "      <td>my powers out no xbox today hurricane sandy</td>\n",
              "      <td>None</td>\n",
              "      <td>Energy</td>\n",
              "    </tr>\n",
              "    <tr>\n",
              "      <th>9</th>\n",
              "      <td>i have a few baby supplies diapers formula blankets to give as well as water and some feminine hygiene products</td>\n",
              "      <td>Food</td>\n",
              "      <td>Water</td>\n",
              "    </tr>\n",
              "    <tr>\n",
              "      <th>10</th>\n",
              "      <td>general volunteer opportunities shelters resource distro food banks etc</td>\n",
              "      <td>None</td>\n",
              "      <td>Food</td>\n",
              "    </tr>\n",
              "    <tr>\n",
              "      <th>11</th>\n",
              "      <td>hurricane life needshower soho http t co 7wrh1anl</td>\n",
              "      <td>None</td>\n",
              "      <td>Water</td>\n",
              "    </tr>\n",
              "    <tr>\n",
              "      <th>12</th>\n",
              "      <td>items purchased candles alcohol water food items forgotten marshmallow graham cracker millerlite itsmillertime hurricanesandy</td>\n",
              "      <td>Food</td>\n",
              "      <td>None</td>\n",
              "    </tr>\n",
              "    <tr>\n",
              "      <th>13</th>\n",
              "      <td>food water batteries procured outdoor furniture secured sandy can do her worst</td>\n",
              "      <td>Water</td>\n",
              "      <td>Energy</td>\n",
              "    </tr>\n",
              "    <tr>\n",
              "      <th>14</th>\n",
              "      <td>diapers baby wipes disposable gloves socks shampoo bar soap dog food sanitary pads tampons bath towels</td>\n",
              "      <td>Medical</td>\n",
              "      <td>Food</td>\n",
              "    </tr>\n",
              "    <tr>\n",
              "      <th>15</th>\n",
              "      <td>lower manhattan has invaded upper manhattan proud to be a host to the power less manhattanites its a party in the uws sandyaftermath</td>\n",
              "      <td>Energy</td>\n",
              "      <td>None</td>\n",
              "    </tr>\n",
              "    <tr>\n",
              "      <th>16</th>\n",
              "      <td>hi my name is 3 sets of twins in brooklyn ny and in desperate need of diapers wipes and so on we had a flood of 5 feet of water and cant seem to get any help in my area please help me and my family</td>\n",
              "      <td>Energy</td>\n",
              "      <td>Water</td>\n",
              "    </tr>\n",
              "    <tr>\n",
              "      <th>17</th>\n",
              "      <td>mpcstorm thank you for working hard still no power after sandy but is good to know you guys are helping us http t co 2iiov1ve</td>\n",
              "      <td>None</td>\n",
              "      <td>Energy</td>\n",
              "    </tr>\n",
              "    <tr>\n",
              "      <th>18</th>\n",
              "      <td>happy we could partner up in the rockaways tomorrow sweeterynyc chasenews would love 2 b a part of feeding new yorkers freefood sandy</td>\n",
              "      <td>None</td>\n",
              "      <td>Food</td>\n",
              "    </tr>\n",
              "    <tr>\n",
              "      <th>19</th>\n",
              "      <td>i got batteries flashlights first aid and 72 hour kit bring it on hurricanesandy im ready</td>\n",
              "      <td>Energy</td>\n",
              "      <td>None</td>\n",
              "    </tr>\n",
              "    <tr>\n",
              "      <th>20</th>\n",
              "      <td>of course my lights go out right when i m gonna watch almost famous fuck you sandy itwasallhappening</td>\n",
              "      <td>None</td>\n",
              "      <td>Energy</td>\n",
              "    </tr>\n",
              "    <tr>\n",
              "      <th>21</th>\n",
              "      <td>alexalombardi97 snow is wet heavy weighing down the power lines that r already week from sandy</td>\n",
              "      <td>Energy</td>\n",
              "      <td>None</td>\n",
              "    </tr>\n",
              "    <tr>\n",
              "      <th>22</th>\n",
              "      <td>these pictures are so heartbreaking helpsandy</td>\n",
              "      <td>Energy</td>\n",
              "      <td>None</td>\n",
              "    </tr>\n",
              "    <tr>\n",
              "      <th>23</th>\n",
              "      <td>so battery park is flooded but there s no rain on the ues this doesn t make sense sandy http t co ssad9tbi</td>\n",
              "      <td>Energy</td>\n",
              "      <td>None</td>\n",
              "    </tr>\n",
              "    <tr>\n",
              "      <th>24</th>\n",
              "      <td>i m a healthy senior formerly self employed bookkeeper can do clean up food water distribution very organized</td>\n",
              "      <td>None</td>\n",
              "      <td>Water</td>\n",
              "    </tr>\n",
              "    <tr>\n",
              "      <th>25</th>\n",
              "      <td>after 40 min waiting on line socloseyetsofaraway gasisgold sandyaftermath valero http t co pxhvufks</td>\n",
              "      <td>Energy</td>\n",
              "      <td>None</td>\n",
              "    </tr>\n",
              "    <tr>\n",
              "      <th>26</th>\n",
              "      <td>bobingle99 at t will charge phone batteries at their open stores in nj and ny no matter who the carrier is sandynj batterycharging</td>\n",
              "      <td>Energy</td>\n",
              "      <td>None</td>\n",
              "    </tr>\n",
              "    <tr>\n",
              "      <th>27</th>\n",
              "      <td>food handlers license 12 yrs restaurant experience friendly patient can clean lift decent amount of weight</td>\n",
              "      <td>Food</td>\n",
              "      <td>Energy</td>\n",
              "    </tr>\n",
              "    <tr>\n",
              "      <th>28</th>\n",
              "      <td>i represent a company in shelton ct that would like to donate 2 pallets of spring water to the staten island relief effort the water will be trucked in saturday tomorrow morning there is so much info out there we could use some advice as to where to deliver it</td>\n",
              "      <td>Food</td>\n",
              "      <td>Water</td>\n",
              "    </tr>\n",
              "    <tr>\n",
              "      <th>29</th>\n",
              "      <td>i don t get to have halloween this year</td>\n",
              "      <td>Food</td>\n",
              "      <td>None</td>\n",
              "    </tr>\n",
              "    <tr>\n",
              "      <th>30</th>\n",
              "      <td>paper towels candles lightly used board game trivia pursuit 1980s a few power strips</td>\n",
              "      <td>None</td>\n",
              "      <td>Energy</td>\n",
              "    </tr>\n",
              "    <tr>\n",
              "      <th>31</th>\n",
              "      <td>rockaway100 redcrossny fema rockaway has been devastated and is in dire need of assistance with first aid supplies and basic necessities</td>\n",
              "      <td>Food</td>\n",
              "      <td>Medical</td>\n",
              "    </tr>\n",
              "    <tr>\n",
              "      <th>32</th>\n",
              "      <td>erinburnett can you update us as to whats going on thx to sandy power is out in staten island ny</td>\n",
              "      <td>None</td>\n",
              "      <td>Energy</td>\n",
              "    </tr>\n",
              "    <tr>\n",
              "      <th>33</th>\n",
              "      <td>i need batteries sandy mama angelinas restaurant</td>\n",
              "      <td>None</td>\n",
              "      <td>Energy</td>\n",
              "    </tr>\n",
              "  </tbody>\n",
              "</table>\n",
              "</div>"
            ],
            "text/plain": [
              "                                                                                                                                                                                                                                                                    Tweet  ... True Category\n",
              "0                                                                                                                senior nursing students we graduate this december and we want to help we can give basic medical care hand out blankets you name it we will do it thanks   ...       Medical\n",
              "1                                                                                                                                                                                                                        a few friends and i are happy to distribute meds  ...       Medical\n",
              "2                                                                                                                                                                                                                  eating cold chinese food with a flash light sandyprobs  ...        Energy\n",
              "3                                                                                                                                                                      hello there i have two trucks worth of goods water supplies clothes everything please email me at   ...         Water\n",
              "4                                                                                                                                                                                                    i need groceries not because of the storm just legit need groceries   ...          Food\n",
              "5                                                                                                                                                                                                                        sandy is so angry power is down wind over 90 mph  ...        Energy\n",
              "6                                                                                                                                        over 25 people in line at starbucks people need coffee as much as they need food and gas post sandy starbucks http t co t7g3fbjg  ...          None\n",
              "7                                                                                                                                                                                          i can bring batteries toiletries non perishable items hygiene products towels   ...        Energy\n",
              "8                                                                                                                                                                                                                            my powers out no xbox today hurricane sandy   ...        Energy\n",
              "9                                                                                                                                                         i have a few baby supplies diapers formula blankets to give as well as water and some feminine hygiene products  ...         Water\n",
              "10                                                                                                                                                                                                general volunteer opportunities shelters resource distro food banks etc  ...          Food\n",
              "11                                                                                                                                                                                                                      hurricane life needshower soho http t co 7wrh1anl  ...         Water\n",
              "12                                                                                                                                          items purchased candles alcohol water food items forgotten marshmallow graham cracker millerlite itsmillertime hurricanesandy  ...          None\n",
              "13                                                                                                                                                                                        food water batteries procured outdoor furniture secured sandy can do her worst   ...        Energy\n",
              "14                                                                                                                                                                 diapers baby wipes disposable gloves socks shampoo bar soap dog food sanitary pads tampons bath towels  ...          Food\n",
              "15                                                                                                                                   lower manhattan has invaded upper manhattan proud to be a host to the power less manhattanites its a party in the uws sandyaftermath  ...          None\n",
              "16                                                                  hi my name is 3 sets of twins in brooklyn ny and in desperate need of diapers wipes and so on we had a flood of 5 feet of water and cant seem to get any help in my area please help me and my family  ...         Water\n",
              "17                                                                                                                                          mpcstorm thank you for working hard still no power after sandy but is good to know you guys are helping us http t co 2iiov1ve  ...        Energy\n",
              "18                                                                                                                                  happy we could partner up in the rockaways tomorrow sweeterynyc chasenews would love 2 b a part of feeding new yorkers freefood sandy  ...          Food\n",
              "19                                                                                                                                                                             i got batteries flashlights first aid and 72 hour kit bring it on hurricanesandy im ready   ...          None\n",
              "20                                                                                                                                                                   of course my lights go out right when i m gonna watch almost famous fuck you sandy itwasallhappening  ...        Energy\n",
              "21                                                                                                                                                                        alexalombardi97 snow is wet heavy weighing down the power lines that r already week from sandy   ...          None\n",
              "22                                                                                                                                                                                                                          these pictures are so heartbreaking helpsandy  ...          None\n",
              "23                                                                                                                                                             so battery park is flooded but there s no rain on the ues this doesn t make sense sandy http t co ssad9tbi  ...          None\n",
              "24                                                                                                                                                         i m a healthy senior formerly self employed bookkeeper can do clean up food water distribution very organized   ...         Water\n",
              "25                                                                                                                                                                    after 40 min waiting on line socloseyetsofaraway gasisgold sandyaftermath valero http t co pxhvufks  ...          None\n",
              "26                                                                                                                                     bobingle99 at t will charge phone batteries at their open stores in nj and ny no matter who the carrier is sandynj batterycharging  ...          None\n",
              "27                                                                                                                                                             food handlers license 12 yrs restaurant experience friendly patient can clean lift decent amount of weight  ...        Energy\n",
              "28  i represent a company in shelton ct that would like to donate 2 pallets of spring water to the staten island relief effort the water will be trucked in saturday tomorrow morning there is so much info out there we could use some advice as to where to deliver it   ...         Water\n",
              "29                                                                                                                                                                                                                               i don t get to have halloween this year   ...          None\n",
              "30                                                                                                                                                                                   paper towels candles lightly used board game trivia pursuit 1980s a few power strips  ...        Energy\n",
              "31                                                                                                                              rockaway100 redcrossny fema rockaway has been devastated and is in dire need of assistance with first aid supplies and basic necessities   ...       Medical\n",
              "32                                                                                                                                                                       erinburnett can you update us as to whats going on thx to sandy power is out in staten island ny  ...        Energy\n",
              "33                                                                                                                                                                                                                      i need batteries sandy mama angelinas restaurant   ...        Energy\n",
              "\n",
              "[34 rows x 3 columns]"
            ]
          },
          "metadata": {
            "tags": []
          },
          "execution_count": 22
        }
      ]
    },
    {
      "cell_type": "code",
      "metadata": {
        "id": "FxJcWQCU9e-g",
        "colab_type": "code",
        "colab": {}
      },
      "source": [
        "#Helper Function to visualize the embeddings\n",
        "from gensim.models.word2vec import Word2Vec\n",
        "from sklearn.manifold import TSNE\n",
        "\n",
        "import re\n",
        "import matplotlib.pyplot as plt\n",
        "\n",
        "def clean(text):\n",
        "    \"\"\"Remove posting header, split by sentences and words, keep only letters\"\"\"\n",
        "    lines = re.split('[?!.:]\\s', re.sub('^.*Lines: \\d+', '', re.sub('\\n', ' ', text)))\n",
        "    return [re.sub('[^a-zA-Z]', ' ', line).lower().split() for line in lines]\n",
        "\n",
        "sentences = [line for text in tweets for line in clean(text)]\n",
        "\n",
        "#min-count variable helps us eliminate the words which rarely occur! \n",
        "model = Word2Vec(sentences, workers=4, size=100, min_count=30, window=10, sample=1e-3)\n",
        "\n",
        "\n",
        "def tsne_plot(model):\n",
        "    \"Creates and TSNE model and plots it\"\n",
        "    labels = []\n",
        "    tokens = []\n",
        "\n",
        "    for word in model.wv.vocab:\n",
        "        tokens.append(model[word])\n",
        "        labels.append(word)\n",
        "    \n",
        "    tsne_model = TSNE(perplexity=40, n_components=2, init='pca', n_iter=2500, random_state=23)\n",
        "    new_values = tsne_model.fit_transform(tokens)\n",
        "\n",
        "    x = []\n",
        "    y = []\n",
        "    for value in new_values:\n",
        "        x.append(value[0])\n",
        "        y.append(value[1])\n",
        "        \n",
        "    plt.figure(figsize=(16, 16)) \n",
        "    for i in range(len(x)):\n",
        "        plt.scatter(x[i],y[i])\n",
        "        plt.annotate(labels[i],\n",
        "                     xy=(x[i], y[i]),\n",
        "                     xytext=(5, 2),\n",
        "                     textcoords='offset points',\n",
        "                     ha='right',\n",
        "                     va='bottom')\n",
        "    plt.show()"
      ],
      "execution_count": 25,
      "outputs": []
    },
    {
      "cell_type": "code",
      "metadata": {
        "id": "miXRxqDi9r6c",
        "colab_type": "code",
        "colab": {
          "base_uri": "https://localhost:8080/",
          "height": 879
        },
        "outputId": "248ec4cc-494c-4da1-b0db-f06e4d7faa01"
      },
      "source": [
        "tsne_plot(model)"
      ],
      "execution_count": 26,
      "outputs": [
        {
          "output_type": "stream",
          "text": [
            "/usr/local/lib/python3.6/dist-packages/ipykernel_launcher.py:25: DeprecationWarning: Call to deprecated `__getitem__` (Method will be removed in 4.0.0, use self.wv.__getitem__() instead).\n"
          ],
          "name": "stderr"
        },
        {
          "output_type": "display_data",
          "data": {
            "image/png": "[encoded data removed]",
            "text/plain": [
              "<Figure size 1152x1152 with 1 Axes>"
            ]
          },
          "metadata": {
            "tags": [],
            "needs_background": "light"
          }
        }
      ]
    }
  ]
}